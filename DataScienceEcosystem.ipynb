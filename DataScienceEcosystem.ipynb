{
 "cells": [
  {
   "cell_type": "markdown",
   "id": "f402ec84-60da-491c-9570-fb456317f1f5",
   "metadata": {
    "tags": []
   },
   "source": [
    "# Data Science Tools and Ecosystem"
   ]
  },
  {
   "cell_type": "markdown",
   "id": "48c27bc6-2596-4213-a199-5c52c3c64986",
   "metadata": {},
   "source": [
    " In this notebook, Data Science Tools and Ecosystem are summarized."
   ]
  },
  {
   "cell_type": "markdown",
   "id": "9b1da22b-ddff-4f7e-ae03-3bf6fd66246d",
   "metadata": {},
   "source": [
    "**Objectives:**\n",
    "- Popular Languages\n",
    "- Common Libraries\n",
    "- Data Science Tools"
   ]
  },
  {
   "cell_type": "markdown",
   "id": "1f860f82-894a-4b98-8830-0e4357d412f3",
   "metadata": {},
   "source": [
    "Some of the popular languages that Data Scientists use are:"
   ]
  },
  {
   "cell_type": "markdown",
   "id": "16a7f964-f552-4e96-94d0-dc4cf2542e2f",
   "metadata": {},
   "source": [
    "1. Python\n",
    "2. R\n",
    "3. SQL\n",
    " 4. Java\n",
    "5. Julia"
   ]
  },
  {
   "cell_type": "markdown",
   "id": "4ba370b1-1cda-4460-947f-387bb1f33933",
   "metadata": {},
   "source": [
    "Some of the commonly used libraries used by Data Scientists include:"
   ]
  },
  {
   "cell_type": "markdown",
   "id": "39eef357-8b23-4e69-9376-780f6a02596a",
   "metadata": {
    "tags": []
   },
   "source": [
    " 1. NumPy\n",
    " 2. Pandas\n",
    " 3. Matplotlib\n",
    " 4. Seaborn\n",
    " 5. Plotly "
   ]
  },
  {
   "cell_type": "code",
   "execution_count": null,
   "id": "185d4eed-1f0d-474c-9fcb-79a8c4f56062",
   "metadata": {},
   "outputs": [],
   "source": []
  },
  {
   "cell_type": "markdown",
   "id": "74308def-dabe-48b5-a4e6-2b2307711875",
   "metadata": {},
   "source": [
    " | Data Science Tools |\n",
    " | ------------------ |\n",
    " | Jupyter Notebooks |\n",
    " | Pandas|\n",
    " | Scikit-learn |\n",
    " | Seaborn |\n"
   ]
  },
  {
   "cell_type": "markdown",
   "id": "b32408d3-0c46-46f7-afca-d9c22f0e8e1d",
   "metadata": {},
   "source": [
    "### Below are a few examples of evaluating arithmetic expressions in Python."
   ]
  },
  {
   "cell_type": "markdown",
   "id": "6c5c43d5-e478-4c73-9415-151680c107d3",
   "metadata": {},
   "source": [
    "This a simple arithmetic expression to mutiply then add integers."
   ]
  },
  {
   "cell_type": "code",
   "execution_count": 7,
   "id": "b4c3ef1b-079a-4926-a978-3ae4383b0996",
   "metadata": {
    "tags": []
   },
   "outputs": [
    {
     "data": {
      "text/plain": [
       "17"
      ]
     },
     "execution_count": 7,
     "metadata": {},
     "output_type": "execute_result"
    }
   ],
   "source": [
    "(3*4)+5"
   ]
  },
  {
   "cell_type": "markdown",
   "id": "77ce46a4-2f65-4caf-926d-3c9a56ea3ddc",
   "metadata": {},
   "source": [
    "This will convert 200 minutes to hours by diving by 60"
   ]
  },
  {
   "cell_type": "code",
   "execution_count": 8,
   "id": "1c30b0ad-0f2a-4f01-bd97-5d43f25f589d",
   "metadata": {
    "tags": []
   },
   "outputs": [
    {
     "data": {
      "text/plain": [
       "3.3333333333333335"
      ]
     },
     "execution_count": 8,
     "metadata": {},
     "output_type": "execute_result"
    }
   ],
   "source": [
    "200/60"
   ]
  },
  {
   "cell_type": "markdown",
   "id": "be379c27-21fb-4db3-ae6e-6aadba207f9e",
   "metadata": {},
   "source": [
    "## Author \n",
    "Emre Gok"
   ]
  },
  {
   "cell_type": "code",
   "execution_count": null,
   "id": "fd4d2fe7-47f0-4b13-8de0-e80b6b3c90c9",
   "metadata": {},
   "outputs": [],
   "source": []
  }
 ],
 "metadata": {
  "kernelspec": {
   "display_name": "Python",
   "language": "python",
   "name": "conda-env-python-py"
  },
  "language_info": {
   "codemirror_mode": {
    "name": "ipython",
    "version": 3
   },
   "file_extension": ".py",
   "mimetype": "text/x-python",
   "name": "python",
   "nbconvert_exporter": "python",
   "pygments_lexer": "ipython3",
   "version": "3.7.12"
  }
 },
 "nbformat": 4,
 "nbformat_minor": 5
}
